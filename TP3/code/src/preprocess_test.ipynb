{
 "cells": [
  {
   "cell_type": "code",
   "execution_count": 5,
   "metadata": {},
   "outputs": [
    {
     "name": "stdout",
     "output_type": "stream",
     "text": [
      "Sample of the preprocessed data for heatmap:\n",
      "Year                                    2010   2011   2012   2013   2014  \\\n",
      "Arrond_Nom                                                                 \n",
      "Ahuntsic - Cartierville                437.0  289.0  327.0  357.0  466.0   \n",
      "Côte-des-Neiges - Notre-Dame-de-Grâce  401.0  108.0  458.0  395.0  378.0   \n",
      "LaSalle                                  1.0  147.0  522.0    0.0    0.0   \n",
      "Le Plateau-Mont-Royal                  278.0  283.0  410.0  314.0  381.0   \n",
      "Le Sud-Ouest                           388.0  248.0  738.0  386.0  441.0   \n",
      "\n",
      "Year                                    2015    2016   2017   2018    2019  \\\n",
      "Arrond_Nom                                                                   \n",
      "Ahuntsic - Cartierville                903.0  1028.0  936.0  815.0   851.0   \n",
      "Côte-des-Neiges - Notre-Dame-de-Grâce  606.0   474.0  803.0  623.0   685.0   \n",
      "LaSalle                                  0.0   120.0  336.0   48.0  1175.0   \n",
      "Le Plateau-Mont-Royal                  378.0   526.0  383.0  347.0   544.0   \n",
      "Le Sud-Ouest                           548.0   341.0  491.0  543.0   479.0   \n",
      "\n",
      "Year                                    2020  \n",
      "Arrond_Nom                                    \n",
      "Ahuntsic - Cartierville                144.0  \n",
      "Côte-des-Neiges - Notre-Dame-de-Grâce   79.0  \n",
      "LaSalle                                  0.0  \n",
      "Le Plateau-Mont-Royal                    0.0  \n",
      "Le Sud-Ouest                           211.0  \n",
      "\n",
      "Daily tree planting data for Ahuntsic - Cartierville in 2017:\n",
      "  Date_Plantation  Counts\n",
      "0      2017-05-08       4\n",
      "1      2017-05-16       5\n",
      "2      2017-05-17      23\n",
      "3      2017-05-18      28\n",
      "4      2017-05-19      20\n"
     ]
    }
   ],
   "source": [
    "import pandas as pd\n",
    "from preprocess import convert_dates, filter_years, summarize_yearly_counts, restructure_df, get_daily_info\n",
    "\n",
    "# Load the dataset\n",
    "dataframe = pd.read_csv(r'C:\\Users\\oussa\\Desktop\\OUSSAMA\\Poly_ETE_2024\\INF8808E - Visualisation de données  Data Visualization\\TPs\\INF8808E\\TP3\\code\\src\\assets\\data\\arbres.csv')\n",
    "\n",
    "# Apply the preprocessing functions\n",
    "dataframe = convert_dates(dataframe)\n",
    "dataframe = filter_years(dataframe, 2010, 2020)\n",
    "yearly_df = summarize_yearly_counts(dataframe)\n",
    "heatmap_data = restructure_df(yearly_df)\n",
    "\n",
    "# Print the results to verify\n",
    "print(\"Sample of the preprocessed data for heatmap:\")\n",
    "print(heatmap_data.head())\n",
    "\n",
    "# Test get_daily_info function\n",
    "arrond = 'Ahuntsic - Cartierville'\n",
    "year = 2017\n",
    "daily_info = get_daily_info(dataframe, arrond, year)\n",
    "\n",
    "print(f\"\\nDaily tree planting data for {arrond} in {year}:\")\n",
    "print(daily_info.head())\n"
   ]
  }
 ],
 "metadata": {
  "kernelspec": {
   "display_name": ".venv",
   "language": "python",
   "name": "python3"
  },
  "language_info": {
   "codemirror_mode": {
    "name": "ipython",
    "version": 3
   },
   "file_extension": ".py",
   "mimetype": "text/x-python",
   "name": "python",
   "nbconvert_exporter": "python",
   "pygments_lexer": "ipython3",
   "version": "3.8.0"
  }
 },
 "nbformat": 4,
 "nbformat_minor": 2
}
