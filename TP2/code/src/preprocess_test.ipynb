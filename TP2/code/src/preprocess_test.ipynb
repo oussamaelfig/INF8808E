{
 "cells": [
  {
   "cell_type": "code",
   "execution_count": 6,
   "metadata": {},
   "outputs": [],
   "source": [
    "import pandas as pd\n",
    "\n",
    "df = pd.read_csv('src/assets/data/romeo_and_juliet.csv')\n"
   ]
  },
  {
   "cell_type": "code",
   "execution_count": 7,
   "metadata": {},
   "outputs": [],
   "source": [
    "from preprocess import summarize_lines, replace_others, clean_names\n",
    "\n",
    "df_summarized = summarize_lines(df)\n",
    "\n",
    "df_replaced = replace_others(df_summarized)\n",
    "\n",
    "df_cleaned = clean_names(df_replaced)\n"
   ]
  },
  {
   "cell_type": "code",
   "execution_count": 8,
   "metadata": {},
   "outputs": [
    {
     "name": "stdout",
     "output_type": "stream",
     "text": [
      "   Act    Player  LineCount  LinePercent\n",
      "0    1  Benvolio         34    14.406780\n",
      "1    1    Juliet         16     6.779661\n",
      "2    1  Mercutio         11     4.661017\n",
      "3    1     Nurse         20     8.474576\n",
      "4    1     Romeo         50    21.186441\n"
     ]
    }
   ],
   "source": [
    "print(df_cleaned.head())\n"
   ]
  }
 ],
 "metadata": {
  "kernelspec": {
   "display_name": ".venv",
   "language": "python",
   "name": "python3"
  },
  "language_info": {
   "codemirror_mode": {
    "name": "ipython",
    "version": 3
   },
   "file_extension": ".py",
   "mimetype": "text/x-python",
   "name": "python",
   "nbconvert_exporter": "python",
   "pygments_lexer": "ipython3",
   "version": "3.8.0"
  }
 },
 "nbformat": 4,
 "nbformat_minor": 2
}
